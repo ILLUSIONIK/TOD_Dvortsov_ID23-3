{
 "cells": [
  {
   "cell_type": "markdown",
   "id": "3beabace",
   "metadata": {},
   "source": [
    "Лабораторная работа №1\n",
    "Замечание: при решении данных задач не подразумевается использования циклов или генераторов Python, если в задании не сказано обратного. Решение должно опираться на использования функционала библиотеки numpy.\n",
    "\n",
    "1. Файл minutes_n_ingredients.csv содержит информацию об идентификаторе рецепта, времени его выполнения в минутах и количестве необходимых ингредиентов. Считайте данные из этого файла в виде массива numpy типа int32, используя np.loadtxt. Выведите на экран первые 5 строк массива.\n",
    "2. Вычислите среднее значение, минимум, максимум и медиану по каждому из столбцов, кроме первого.\n",
    "3. Ограничьте сверху значения продолжительности выполнения рецепта значением квантиля q0.75.\n",
    "4. Посчитайте, для скольких рецептов указана продолжительность, равная нулю. Замените для таких строк значение в данном столбце на 1.\n",
    "5. Посчитайте, сколько уникальных рецептов находится в датасете.\n",
    "6. Сколько и каких различных значений кол-ва ингредиентов присутвует в рецептах из датасета?\n",
    "7. Создайте версию массива, содержащую информацию только о рецептах, состоящих не более чем из 5 ингредиентов.\n",
    "8. Для каждого рецепта посчитайте, сколько в среднем ингредиентов приходится на одну минуту рецепта. Найдите максимальное значение этой величины для всего датасета\n",
    "9. Вычислите среднее количество ингредиентов для топ-100 рецептов с наибольшей продолжительностью\n",
    "10. Выберите случайным образом и выведите информацию о 10 различных рецептах\n",
    "11. Выведите процент рецептов, кол-во ингредиентов в которых меньше среднего.\n",
    "12. Назовем \"простым\" такой рецепт, длительность выполнения которого не больше 20 минут и кол-во ингредиентов в котором не больше 5. Создайте версию датасета с дополнительным столбцом, значениями которого являются 1, если рецепт простой, и 0 в противном случае.\n",
    "13. Выведите процент \"простых\" рецептов в датасете\n",
    "14. Разделим рецепты на группы по следующему правилу. Назовем рецепты короткими, если их продолжительность составляет менее 10 минут; стандартными, если их продолжительность составляет более 10, но менее 20 минут; и длинными, если их продолжительность составляет не менее 20 минут. Создайте трехмерный массив, где нулевая ось отвечает за номер группы (короткий, стандартный или длинный рецепт), первая ось - за сам рецепт и вторая ось - за характеристики рецепта. Выберите максимальное количество рецептов из каждой группы таким образом, чтобы было возможно сформировать трехмерный массив. Выведите форму полученного массива."
   ]
  },
  {
   "cell_type": "code",
   "execution_count": 59,
   "id": "ef7ac712",
   "metadata": {},
   "outputs": [
    {
     "name": "stdout",
     "output_type": "stream",
     "text": [
      "[[127244     60     16]\n",
      " [ 23891     25      7]\n",
      " [ 94746     10      6]\n",
      " [ 67660      5      6]\n",
      " [157911     60     14]]\n"
     ]
    }
   ],
   "source": [
    "import numpy as np\n",
    "#1\n",
    "data = np.loadtxt('minutes_n_ingredients.csv', delimiter=',', skiprows = 1, dtype=np.int32)\n",
    "print(data[:5])\n"
   ]
  },
  {
   "cell_type": "code",
   "execution_count": 60,
   "id": "86da71bb",
   "metadata": {},
   "outputs": [
    {
     "name": "stdout",
     "output_type": "stream",
     "text": [
      "21601.00169 9.05528\n",
      "[0, 1]\n",
      "[2147483647, 39]\n",
      "40.0 9.0\n"
     ]
    }
   ],
   "source": [
    "#2\n",
    "arr = data[:, 1:]\n",
    "min_first = min(data[:,1])\n",
    "min_second = min(data[:, 2])\n",
    "max_first = max(data[:,1])\n",
    "max_second = max(data[:, 2])\n",
    "median_minutes = np.median(data[:, 1])\n",
    "median_ingredients = np.median(data[:, 2])\n",
    "mean_minutes = np.mean(data[:,1])\n",
    "mean_ingredients = np.mean(data[:, 2])\n",
    "print(mean_minutes, mean_ingredients)\n",
    "print([min_first, min_second])\n",
    "print([max_first, max_second])\n",
    "print(median_minutes, median_ingredients)\n"
   ]
  },
  {
   "cell_type": "code",
   "execution_count": 61,
   "id": "638d813c",
   "metadata": {},
   "outputs": [
    {
     "name": "stdout",
     "output_type": "stream",
     "text": [
      "65.0\n"
     ]
    }
   ],
   "source": [
    "#3\n",
    "quantile_value = np.quantile(data[:, 1], 0.75)\n",
    "print(quantile_value)\n",
    "data[:, 1] = np.minimum(data[:, 1], quantile_value)"
   ]
  },
  {
   "cell_type": "code",
   "execution_count": 62,
   "id": "9574ffa1",
   "metadata": {},
   "outputs": [
    {
     "data": {
      "text/plain": [
       "479"
      ]
     },
     "execution_count": 62,
     "metadata": {},
     "output_type": "execute_result"
    }
   ],
   "source": [
    "#4\n",
    "counter = np.count_nonzero(data[:, 1] == 0)\n",
    "counter"
   ]
  },
  {
   "cell_type": "code",
   "execution_count": 63,
   "id": "d932431e",
   "metadata": {},
   "outputs": [],
   "source": [
    "#5\n",
    "data[:, 1] = np.where(data[:, 1] == 0, 1, data[:, 1])"
   ]
  },
  {
   "cell_type": "code",
   "execution_count": 64,
   "id": "1ded4ead",
   "metadata": {},
   "outputs": [
    {
     "data": {
      "text/plain": [
       "65"
      ]
     },
     "execution_count": 64,
     "metadata": {},
     "output_type": "execute_result"
    }
   ],
   "source": [
    "#6\n",
    "counter_unique_id = len(np.unique(data[:,1]))\n",
    "counter_unique_id"
   ]
  },
  {
   "cell_type": "code",
   "execution_count": 65,
   "id": "e65de93d",
   "metadata": {},
   "outputs": [
    {
     "data": {
      "text/plain": [
       "array([[446597,     15,      5],\n",
       "       [204134,      5,      3],\n",
       "       [ 25623,      6,      4],\n",
       "       ...,\n",
       "       [ 52088,     60,      5],\n",
       "       [128811,     15,      4],\n",
       "       [370915,      5,      4]])"
      ]
     },
     "execution_count": 65,
     "metadata": {},
     "output_type": "execute_result"
    }
   ],
   "source": [
    "#7\n",
    "ans_7 = data[data[:, 2] <= 5]\n",
    "ans_7"
   ]
  },
  {
   "cell_type": "code",
   "execution_count": 66,
   "id": "8402f7be",
   "metadata": {},
   "outputs": [
    {
     "data": {
      "text/plain": [
       "(24.0,\n",
       " array([0.26666667, 0.28      , 0.6       , ..., 0.23076923, 0.8       ,\n",
       "        0.21538462]))"
      ]
     },
     "execution_count": 66,
     "metadata": {},
     "output_type": "execute_result"
    }
   ],
   "source": [
    "#8\n",
    "count_recipes = data[:, 2] / data[:, 1]\n",
    "ans_8 = np.max(data[:, 2] / data[:, 1])\n",
    "ans_8, count_recipes"
   ]
  },
  {
   "cell_type": "code",
   "execution_count": 67,
   "id": "a8f26130",
   "metadata": {},
   "outputs": [
    {
     "data": {
      "text/plain": [
       "9.96"
      ]
     },
     "execution_count": 67,
     "metadata": {},
     "output_type": "execute_result"
    }
   ],
   "source": [
    "#9\n",
    "ans_9 = data[data[:, 1].argsort()][::-1]\n",
    "answer_9 = np.mean(ans_9[:100, 2])\n",
    "answer_9\n",
    "\n"
   ]
  },
  {
   "cell_type": "code",
   "execution_count": 68,
   "id": "2e3584c9",
   "metadata": {},
   "outputs": [
    {
     "data": {
      "text/plain": [
       "[array([350040,     10,      5]),\n",
       " array([235732,     15,      8]),\n",
       " array([225202,     25,      8]),\n",
       " array([275888,     55,     13]),\n",
       " array([3037,    1,   16]),\n",
       " array([220579,     35,      9]),\n",
       " array([283186,     10,      4]),\n",
       " array([368276,     10,      7]),\n",
       " array([214012,     65,     12]),\n",
       " array([466871,     30,      8])]"
      ]
     },
     "execution_count": 68,
     "metadata": {},
     "output_type": "execute_result"
    }
   ],
   "source": [
    "#10\n",
    "import random\n",
    "ans_10 = random.choices(data, k = 10, )\n",
    "ans_10"
   ]
  },
  {
   "cell_type": "code",
   "execution_count": 74,
   "id": "934c8890",
   "metadata": {},
   "outputs": [
    {
     "data": {
      "text/plain": [
       "58.802"
      ]
     },
     "execution_count": 74,
     "metadata": {},
     "output_type": "execute_result"
    }
   ],
   "source": [
    "#11\n",
    "\n",
    "average_11 = np.mean(data[:,2] < np.mean(data[:, 2]))*100\n",
    "average_11\n",
    "\n"
   ]
  },
  {
   "cell_type": "code",
   "execution_count": 87,
   "id": "ef7c222e",
   "metadata": {},
   "outputs": [
    {
     "name": "stdout",
     "output_type": "stream",
     "text": [
      "[[127244     60     16      0      0      0      0]\n",
      " [ 23891     25      7      0      0      0      0]\n",
      " [ 94746     10      6      0      0      0      0]\n",
      " [ 67660      5      6      0      0      0      0]\n",
      " [157911     60     14      0      0      0      0]]\n"
     ]
    }
   ],
   "source": [
    "#12\n",
    "simple_recipe = (data[:, 1] <= 20) & (data[:, 2] <= 5)\n",
    "data = np.column_stack((data, simple_recipe))\n",
    "print(data)\n",
    "\n"
   ]
  },
  {
   "cell_type": "code",
   "execution_count": 92,
   "id": "523ba682",
   "metadata": {},
   "outputs": [
    {
     "data": {
      "text/plain": [
       "9.552"
      ]
     },
     "execution_count": 92,
     "metadata": {},
     "output_type": "execute_result"
    }
   ],
   "source": [
    "#13\n",
    "\n",
    "average_13 = np.mean(data[:, 3])*100\n",
    "average_13\n",
    "\n"
   ]
  },
  {
   "cell_type": "code",
   "execution_count": null,
   "id": "096dbbf0",
   "metadata": {},
   "outputs": [],
   "source": []
  }
 ],
 "metadata": {
  "kernelspec": {
   "display_name": "Python 3 (ipykernel)",
   "language": "python",
   "name": "python3"
  },
  "language_info": {
   "codemirror_mode": {
    "name": "ipython",
    "version": 3
   },
   "file_extension": ".py",
   "mimetype": "text/x-python",
   "name": "python",
   "nbconvert_exporter": "python",
   "pygments_lexer": "ipython3",
   "version": "3.11.5"
  }
 },
 "nbformat": 4,
 "nbformat_minor": 5
}

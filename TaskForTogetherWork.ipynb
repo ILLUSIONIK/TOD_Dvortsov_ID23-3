{
 "cells": [
  {
   "cell_type": "code",
   "execution_count": 37,
   "id": "c283a344",
   "metadata": {},
   "outputs": [
    {
     "data": {
      "text/plain": [
       "array([[0.77560426, 0.00752765, 0.02847194, 0.87771405, 0.        ,\n",
       "        0.44182712, 0.34852519],\n",
       "       [0.87771405, 0.01049775, 0.27207087, 0.59611839, 0.40772224,\n",
       "        0.7962925 , 0.86137853],\n",
       "       [0.96261778, 0.33372593, 0.18424826, 0.82568619, 0.50798853,\n",
       "        0.03190291, 0.78215895],\n",
       "       [0.50081934, 0.2890721 , 1.        , 0.21374437, 0.53133961,\n",
       "        0.00640107, 0.37520483]])"
      ]
     },
     "execution_count": 37,
     "metadata": {},
     "output_type": "execute_result"
    }
   ],
   "source": [
    "#Задача 1\n",
    "\n",
    "'''\n",
    "import numpy as np\n",
    "arr = np.random.uniform(0, 21, size = (4,7)).round(3)\n",
    "min_val = arr.min()\n",
    "max_val = arr.max()\n",
    "x = arr\n",
    "a = 1/(max_val-min_val)\n",
    "b = -a * min_val\n",
    "ans = a*x+b\n",
    "ans\n",
    "'''"
   ]
  },
  {
   "cell_type": "code",
   "execution_count": 58,
   "id": "95ad7bf2",
   "metadata": {},
   "outputs": [
    {
     "data": {
      "text/plain": [
       "(array([[ 2,  0,  4,  5,  2,  4,  2, 10,  0,  8],\n",
       "        [ 3,  3,  6,  2,  6,  8,  7,  4,  9,  8],\n",
       "        [ 0,  9,  1,  1,  4,  0,  7,  4,  7,  6],\n",
       "        [ 3,  1, 10,  3,  0,  5,  3,  3,  5, 10],\n",
       "        [ 6,  3,  9,  4,  5,  7,  4,  1, 10,  8],\n",
       "        [ 2,  0,  7,  7,  1, 10,  6,  7,  7,  7],\n",
       "        [ 8,  1,  7,  8,  5,  3,  4,  7,  1, 10],\n",
       "        [ 1,  3,  9,  3,  6,  0,  1,  9,  1,  9]]),\n",
       " array([ 2,  0,  4,  5,  2,  4,  2, 10,  0,  8]))"
      ]
     },
     "execution_count": 58,
     "metadata": {},
     "output_type": "execute_result"
    }
   ],
   "source": [
    "#задача 2\n",
    "'''\n",
    "import numpy as np\n",
    "arr = np.random.randint(0, 11, (8,10))\n",
    "index = np.argmin(np.sum(arr, axis = 1))\n",
    "arr,arr[index]\n",
    "'''"
   ]
  },
  {
   "cell_type": "code",
   "execution_count": 59,
   "id": "fdc2ddd1",
   "metadata": {},
   "outputs": [
    {
     "name": "stdout",
     "output_type": "stream",
     "text": [
      "Евклидово расстояние между вектором 1 и вектором 2: 6.324555320336759\n"
     ]
    }
   ],
   "source": [
    "#Задача 3\n",
    "'''\n",
    "import numpy as np\n",
    "\n",
    "vector1 = np.array([1, 2, 3, 4, 5])\n",
    "vector2 = np.array([5, 4, 3, 2, 1])\n",
    "\n",
    "ans = np.linalg.norm(vector1 - vector2)\n",
    "ans\n",
    "'''"
   ]
  },
  {
   "cell_type": "code",
   "execution_count": 72,
   "id": "a1d74d5e",
   "metadata": {},
   "outputs": [
    {
     "data": {
      "text/plain": [
       "array([[ 1.00000000e+00,  1.11022302e-15],\n",
       "       [-2.00000000e+00,  1.00000000e+00],\n",
       "       [ 3.00000000e+00, -4.00000000e+00]])"
      ]
     },
     "execution_count": 72,
     "metadata": {},
     "output_type": "execute_result"
    }
   ],
   "source": [
    "#Задача 4\n",
    "import numpy as np\n",
    "A = np.array([[-1, 2, 4], [-3, 1, 2], [-3, 0, 1]])\n",
    "B=np.array([[3, -1], [2, 1]])\n",
    "C=np.array([[7, 21], [11, 8], [8, 4]])\n",
    "A_1 = np.linalg.inv(A)\n",
    "B_1 = np.linalg.inv(B)\n",
    "C_1 = -1*C\n",
    "A_1 @ C_1 @ B_1"
   ]
  },
  {
   "cell_type": "code",
   "execution_count": null,
   "id": "d0386289",
   "metadata": {},
   "outputs": [],
   "source": []
  }
 ],
 "metadata": {
  "kernelspec": {
   "display_name": "Python 3 (ipykernel)",
   "language": "python",
   "name": "python3"
  },
  "language_info": {
   "codemirror_mode": {
    "name": "ipython",
    "version": 3
   },
   "file_extension": ".py",
   "mimetype": "text/x-python",
   "name": "python",
   "nbconvert_exporter": "python",
   "pygments_lexer": "ipython3",
   "version": "3.11.5"
  }
 },
 "nbformat": 4,
 "nbformat_minor": 5
}
